{
 "cells": [
  {
   "cell_type": "code",
   "execution_count": 40,
   "metadata": {},
   "outputs": [],
   "source": [
    "from gurobipy import *\n",
    "import snap\n",
    "import numpy as np\n",
    "import copy\n",
    "import random\n",
    "import matplotlib.pyplot as plt\n",
    "import time"
   ]
  },
  {
   "cell_type": "code",
   "execution_count": 41,
   "metadata": {},
   "outputs": [],
   "source": [
    "#load a graph G\n",
    "node = 13\n",
    "# G = np.loadtxt('test_10nodes.txt', delimiter='\\t', skiprows=3, dtype=\"int\")\n",
    "# G = np.loadtxt('facebook_combined.txt', delimiter=' ', dtype=\"int\")\n",
    "# G = G.tolist()\n",
    "\n",
    "FIn = snap.TFIn(\"small_tree.graph\")\n",
    "G1 = snap.TNGraph.Load(FIn)\n",
    "\n",
    "# select k nodes\n",
    "k = 5"
   ]
  },
  {
   "cell_type": "code",
   "execution_count": 42,
   "metadata": {},
   "outputs": [],
   "source": [
    "#build up internal opinion s\n",
    "s = np.loadtxt('internal_opinion_small_tree.txt', dtype=\"float\")\n",
    "s = s.tolist()"
   ]
  },
  {
   "cell_type": "code",
   "execution_count": 43,
   "metadata": {},
   "outputs": [
    {
     "name": "stdout",
     "output_type": "stream",
     "text": [
      "[[], [0], [0], [0], [1], [1], [1], [2], [2], [2], [3], [3], [3]]\n"
     ]
    }
   ],
   "source": [
    "W = [[0]*node for i in range(node)]\n",
    "for NI in G1.Nodes():\n",
    "    for Id in NI.GetOutEdges():\n",
    "        W[NI.GetId()][Id]=1\n",
    "\n",
    "V = []\n",
    "for i in range(node):\n",
    "    V.append([])\n",
    "for i in range(len(W)):\n",
    "    for j in range(len(W[i])):\n",
    "        if W[i][j]==1:\n",
    "            V[i].append(W[i].index(W[i][j]))\n",
    "print(V)"
   ]
  },
  {
   "cell_type": "code",
   "execution_count": 44,
   "metadata": {},
   "outputs": [
    {
     "name": "stdout",
     "output_type": "stream",
     "text": [
      "Changed value of parameter presolve to 0\n",
      "   Prev: -1  Min: -1  Max: 2  Default: -1\n",
      "Changed value of parameter SubMIPNodes to 0\n",
      "   Prev: 500  Min: 0  Max: 2000000000  Default: 500\n",
      "Changed value of parameter Cuts to 2\n",
      "   Prev: -1  Min: -1  Max: 3  Default: -1\n",
      "Changed value of parameter MIRCuts to 0\n",
      "   Prev: -1  Min: -1  Max: 2  Default: -1\n",
      "Changed value of parameter Threads to 1\n",
      "   Prev: 0  Min: 0  Max: 1024  Default: 0\n",
      "Gurobi Optimizer version 9.1.2 build v9.1.2rc0 (win64)\n",
      "Thread count: 4 physical cores, 8 logical processors, using up to 1 threads\n",
      "Optimize a model with 26 rows, 39 columns and 87 nonzeros\n",
      "Model fingerprint: 0x7331c85c\n",
      "Coefficient statistics:\n",
      "  Matrix range     [5e-02, 1e+00]\n",
      "  Objective range  [1e+00, 1e+00]\n",
      "  Bounds range     [1e+00, 1e+00]\n",
      "  RHS range        [2e-02, 5e+00]\n",
      "Iteration    Objective       Primal Inf.    Dual Inf.      Time\n",
      "       0    1.3000000e+01   2.899810e+00   0.000000e+00      0s\n",
      "      12    1.3000000e+01   0.000000e+00   0.000000e+00      0s\n",
      "\n",
      "Solved in 12 iterations and 0.01 seconds\n",
      "Optimal objective  1.300000000e+01\n",
      "time: 0.020633900014217943\n"
     ]
    }
   ],
   "source": [
    "#create blank model\n",
    "LP_model = Model('Linear Program')\n",
    "\n",
    "#add variables\n",
    "Z = LP_model.addVars([(i) for i in range(node)],lb=0, ub=1, name=\"Z\")\n",
    "Y = LP_model.addVars([(i) for i in range(node)] ,lb=0, ub=1, name=\"Y\")\n",
    "X = LP_model.addVars([(i) for i in range(node)],lb=0, ub=1, name=\"X\")\n",
    "LP_model.update()\n",
    "\n",
    "#add objective number\n",
    "LP_model.setObjective(quicksum(Z[i] for i in range(node)), GRB.MAXIMIZE)\n",
    "\n",
    "#constraint 1\n",
    "LP_model.addConstr(quicksum(Y[i] for i in range(node)) <= k)\n",
    "#constraint 2\n",
    "LP_model.addConstr(Z[0]==Y[0]+s[0]-s[0]*Y[0])\n",
    "#constraint 3\n",
    "# LP_model.addConstrs(Z[i] == Y[i]+(s[i]+Z[j])/2-(s[i]*Y[i])/2-X[i]/2 for i in range(1,node) for j in V[i])\n",
    "LP_model.addConstrs(Z[i] <= Y[i]+(s[i]+Z[j])/2-(s[i]*Y[i])/2-X[i]/2 for i in range(1,node) for j in V[i])\n",
    "#constraint 4\n",
    "LP_model.addConstrs(X[i]<=Z[j] for i in range(1,node) for j in V[i])\n",
    "\n",
    "# LP_model.addConstrs(Y[i]<=Z[i] for i in range(1,node))\n",
    "\n",
    "LP_model.update()\n",
    "\n",
    "LP_model.setParam(\"presolve\",0)\n",
    "LP_model.setParam('SubMIPNodes',0)\n",
    "LP_model.setParam('Cuts',2)\n",
    "LP_model.setParam('MIRCuts',0)\n",
    "LP_model.setParam('Threads',1)\n",
    "start = time.perf_counter()\n",
    "LP_model.optimize()\n",
    "sub_end = time.perf_counter()\n",
    "print('time:', sub_end-start)"
   ]
  },
  {
   "cell_type": "code",
   "execution_count": 45,
   "metadata": {},
   "outputs": [],
   "source": [
    "# print(LP_model.ObjVal)\n",
    "# for var in LP_model.getVars():\n",
    "#     print(var.varName,'\\t',var.x)"
   ]
  },
  {
   "cell_type": "code",
   "execution_count": 46,
   "metadata": {},
   "outputs": [],
   "source": [
    "def equilibrium(z, W):\n",
    "    z_prev = copy.deepcopy(z)\n",
    "    cost = [0 for n in range(node)] #c_i(z)\n",
    "    cost_prev = [0 for n in range(node)] \n",
    "\n",
    "    max_round = 10000\n",
    "\n",
    "    for i in range(max_round):\n",
    "        \n",
    "        for NI in G1.Nodes():\n",
    "            temp_zi_zj_sum = 0   #sum(w_ij(z_i-z_j)^2) ==> 3.1\n",
    "            temp_z_neighbor = 0   #sum(w_ij z_j) ==> 3.2\n",
    "            temp_neighbor_weight = 0  #sum(w_ij) ==>3.2\n",
    "\n",
    "            for Id in NI.GetOutEdges():\n",
    "                temp_zi_zj_sum += W[NI.GetId()][Id]*(z[NI.GetId()]-z[Id])**2 #3.1\n",
    "                temp_z_neighbor += W[NI.GetId()][Id]*z_prev[Id] #3.2\n",
    "                temp_neighbor_weight += W[NI.GetId()][Id] #3.2\n",
    "                \n",
    "            cost[NI.GetId()] = (s[NI.GetId()]-z[NI.GetId()])**2 + temp_zi_zj_sum #3.1\n",
    "\n",
    "            if z[NI.GetId()]==1:\n",
    "                z[NI.GetId()] = 1\n",
    "            else:\n",
    "                z[NI.GetId()] = (s[NI.GetId()]+temp_z_neighbor)/(1+temp_neighbor_weight) #3.2\n",
    "#         print(z)\n",
    "        if abs(sum(cost_prev)-sum(cost))<0.00000000000001:\n",
    "            break\n",
    "\n",
    "        cost_prev = copy.deepcopy(cost)\n",
    "        z_prev = copy.deepcopy(z)\n",
    "    return z"
   ]
  },
  {
   "cell_type": "code",
   "execution_count": 47,
   "metadata": {},
   "outputs": [],
   "source": [
    "y = []\n",
    "for i in range(node):\n",
    "    y.append(i)\n",
    "\n",
    "# sum_LP_solve = []    \n",
    "# for j in range(1000): \n",
    "#     selected = []\n",
    "#     all_vars = []\n",
    "#     all_bar_y =  []\n",
    "#     for var in LP_model.getVars():\n",
    "#         all_vars.append(var.x)\n",
    "#     for i in range(node, node*2):\n",
    "#         all_bar_y.append(all_vars[i])\n",
    "#     for i in range(k):\n",
    "#         select_v = random.choices(y, weights = all_bar_y, k=1)\n",
    "#     #     print(select_v[0])\n",
    "#     #     y[select_v[0]]=-1\n",
    "#         all_bar_y[select_v[0]]=0\n",
    "#         selected.append(select_v[0])\n",
    "# #     print(selected)\n",
    "#     z = copy.deepcopy(s)\n",
    "#     for i in range(len(selected)):\n",
    "#         z[selected[i]] = 1\n",
    "#     LP_solve = sum(equilibrium(z, W))\n",
    "# #     print(LP_solve)\n",
    "#     sum_LP_solve.append(LP_solve)\n",
    "# print(sum(sum_LP_solve)/len(sum_LP_solve))"
   ]
  },
  {
   "cell_type": "code",
   "execution_count": 48,
   "metadata": {},
   "outputs": [
    {
     "name": "stdout",
     "output_type": "stream",
     "text": [
      "time:  0.07839770001010038\n"
     ]
    }
   ],
   "source": [
    "selected = []\n",
    "all_vars = []\n",
    "all_bar_y =  []\n",
    "for var in LP_model.getVars():\n",
    "    all_vars.append(var.x)\n",
    "for i in range(node, node*2):\n",
    "    all_bar_y.append(all_vars[i])\n",
    "for i in range(k):\n",
    "    select_v = random.choices(y, weights = all_bar_y, k=1)\n",
    "#     print(select_v[0])\n",
    "#     y[select_v[0]]=-1\n",
    "    all_bar_y[select_v[0]]=0\n",
    "    selected.append(select_v[0])\n",
    "#     print(selected)\n",
    "z = copy.deepcopy(s)\n",
    "for i in range(len(selected)):\n",
    "    z[selected[i]] = 1\n",
    "equilibrium(z, W)\n",
    "end = time.perf_counter()\n",
    "print('time: ',end - start)"
   ]
  },
  {
   "cell_type": "code",
   "execution_count": 49,
   "metadata": {},
   "outputs": [
    {
     "name": "stdout",
     "output_type": "stream",
     "text": [
      "0.9194098960025229\n"
     ]
    }
   ],
   "source": [
    "print(10.935825325887178/11.894395930949573) #small"
   ]
  },
  {
   "cell_type": "code",
   "execution_count": 50,
   "metadata": {},
   "outputs": [
    {
     "name": "stdout",
     "output_type": "stream",
     "text": [
      "0.9315393685363731\n"
     ]
    }
   ],
   "source": [
    "print(520.6121731840166/558.8729695901077) #large"
   ]
  },
  {
   "cell_type": "code",
   "execution_count": 51,
   "metadata": {},
   "outputs": [
    {
     "name": "stdout",
     "output_type": "stream",
     "text": [
      "0.9989666293474095\n"
     ]
    }
   ],
   "source": [
    "print(558.2954466648072/558.8729695901077)"
   ]
  },
  {
   "cell_type": "code",
   "execution_count": 52,
   "metadata": {},
   "outputs": [
    {
     "name": "stdout",
     "output_type": "stream",
     "text": [
      "0.999104166032816\n"
     ]
    }
   ],
   "source": [
    "print(365.3755578392006/365.7031671582477)"
   ]
  },
  {
   "cell_type": "code",
   "execution_count": null,
   "metadata": {},
   "outputs": [],
   "source": []
  }
 ],
 "metadata": {
  "kernelspec": {
   "display_name": "Python 3",
   "language": "python",
   "name": "python3"
  },
  "language_info": {
   "codemirror_mode": {
    "name": "ipython",
    "version": 3
   },
   "file_extension": ".py",
   "mimetype": "text/x-python",
   "name": "python",
   "nbconvert_exporter": "python",
   "pygments_lexer": "ipython3",
   "version": "3.7.3"
  }
 },
 "nbformat": 4,
 "nbformat_minor": 4
}
