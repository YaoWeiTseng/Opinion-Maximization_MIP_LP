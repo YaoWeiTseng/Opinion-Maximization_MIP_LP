{
 "cells": [
  {
   "cell_type": "code",
   "execution_count": 118,
   "metadata": {},
   "outputs": [],
   "source": [
    "from gurobipy import *\n",
    "import snap\n",
    "import numpy as np\n",
    "import copy\n",
    "import random\n",
    "import matplotlib.pyplot as plt\n",
    "import time"
   ]
  },
  {
   "cell_type": "code",
   "execution_count": 119,
   "metadata": {},
   "outputs": [],
   "source": [
    "#load a graph G\n",
    "node = 400\n",
    "# G = np.loadtxt('test_10nodes.txt', delimiter='\\t', skiprows=3, dtype=\"int\")\n",
    "# G = np.loadtxt('facebook_combined.txt', delimiter=' ', dtype=\"int\")\n",
    "# G = G.tolist()\n",
    "\n",
    "FIn = snap.TFIn(\"large_acyclic.graph\")\n",
    "G1 = snap.TNGraph.Load(FIn)\n",
    "\n",
    "# select k nodes\n",
    "k = 50"
   ]
  },
  {
   "cell_type": "code",
   "execution_count": 120,
   "metadata": {},
   "outputs": [],
   "source": [
    "#build up internal opinion s\n",
    "s = np.loadtxt('internal_opinion_large_acyclic.txt', dtype=\"float\")\n",
    "s = s.tolist()"
   ]
  },
  {
   "cell_type": "code",
   "execution_count": 121,
   "metadata": {
    "scrolled": true
   },
   "outputs": [],
   "source": [
    "W = [[0]*node for i in range(node)]\n",
    "for NI in G1.Nodes():\n",
    "    for Id in NI.GetOutEdges():\n",
    "        W[NI.GetId()][Id]=1\n",
    "# print(W)\n",
    "\n",
    "#create list mapping to parent nodes for every nodes\n",
    "# V = []\n",
    "# for i in range(node):\n",
    "#     V.append([])\n",
    "\n",
    "# for i in range(len(W)):\n",
    "#     temp =[]\n",
    "#     for j in range(len(W[i])):\n",
    "#         temp.append(W[i][j])\n",
    "#     print(temp)\n",
    "#     for a in range(len(temp)):\n",
    "#         if temp[a] == 1:\n",
    "#             V[i].append(a)\n",
    "# print(V)\n",
    "\n",
    "V = copy.deepcopy(W)\n",
    "for i in  range(node):\n",
    "    for j in range(len(W[i])):\n",
    "        if W[i][j]==0:\n",
    "            V[i][j]=99999\n",
    "        else:\n",
    "            V[i][j]=j\n",
    "# print(V)\n",
    "\n",
    "#create b\n",
    "temp = [0]*len(W)\n",
    "for i in range(len(W)):\n",
    "    if sum(W[i])==0:\n",
    "        temp[i]=0\n",
    "    else: \n",
    "        temp[i]=1\n",
    "        \n",
    "b=0\n",
    "for i in range(len(temp)):\n",
    "    if temp[i]==0:\n",
    "        b+=1\n",
    "# print(b)\n",
    "\n",
    "#create the list for how many neighbors for each nodes\n",
    "N = [0]*len(W)\n",
    "for i in range(len(W)):\n",
    "    for j in range(len(W[i])):\n",
    "        if W[i][j]==1:\n",
    "            N[i]+=1\n",
    "# print(N)"
   ]
  },
  {
   "cell_type": "code",
   "execution_count": 122,
   "metadata": {},
   "outputs": [
    {
     "name": "stdout",
     "output_type": "stream",
     "text": [
      "Changed value of parameter presolve to 0\n",
      "   Prev: -1  Min: -1  Max: 2  Default: -1\n",
      "Changed value of parameter SubMIPNodes to 0\n",
      "   Prev: 500  Min: 0  Max: 2000000000  Default: 500\n",
      "Changed value of parameter Cuts to 2\n",
      "   Prev: -1  Min: -1  Max: 3  Default: -1\n",
      "Changed value of parameter MIRCuts to 0\n",
      "   Prev: -1  Min: -1  Max: 2  Default: -1\n",
      "Changed value of parameter Threads to 1\n",
      "   Prev: 0  Min: 0  Max: 1024  Default: 0\n",
      "Gurobi Optimizer version 9.1.2 build v9.1.2rc0 (win64)\n",
      "Thread count: 4 physical cores, 8 logical processors, using up to 1 threads\n",
      "Optimize a model with 2276 rows, 160800 columns and 8700 nonzeros\n",
      "Model fingerprint: 0xa342099b\n",
      "Coefficient statistics:\n",
      "  Matrix range     [8e-03, 1e+00]\n",
      "  Objective range  [1e+00, 1e+00]\n",
      "  Bounds range     [1e+00, 1e+00]\n",
      "  RHS range        [3e-04, 5e+01]\n",
      "Iteration    Objective       Primal Inf.    Dual Inf.      Time\n",
      "       0    4.0000000e+02   7.476172e+00   0.000000e+00      0s\n",
      "       8    3.9960530e+02   0.000000e+00   0.000000e+00      0s\n",
      "\n",
      "Solved in 8 iterations and 0.02 seconds\n",
      "Optimal objective  3.996052959e+02\n",
      "time: 0.02455760003067553\n"
     ]
    }
   ],
   "source": [
    "#create blank model\n",
    "LP_model = Model('Linear Program')\n",
    "\n",
    "#add variables\n",
    "Z = LP_model.addVars([(i) for i in range(node)],lb=0, ub=1, name=\"Z\")\n",
    "Y = LP_model.addVars([(i) for i in range(node)] ,lb=0, ub=1, name=\"Y\")\n",
    "X = LP_model.addVars([(i,j) for i in range(node) for j in range(len(V[i]))] ,lb=0, ub=1, name=\"X\")\n",
    "LP_model.update()\n",
    "\n",
    "#add objective number\n",
    "LP_model.setObjective(quicksum(Z[i] for i in range(node)), GRB.MAXIMIZE)\n",
    "\n",
    "#constraint 1\n",
    "LP_model.addConstr(quicksum(Y[i] for i in range(node)) <= k)\n",
    "#constraint 2\n",
    "LP_model.addConstrs(Z[i]==Y[i]+s[i]-s[i]*Y[i] for i in range(0, b))\n",
    "#constraint 3\n",
    "LP_model.addConstrs(Z[i] == \n",
    "                      Y[i]+\n",
    "                      ((s[i]+quicksum(Z[j] for j in range(len(V[i])) if V[i][j] != 99999 ))/(N[i]+1))-\n",
    "                      ((s[i]*Y[i])/(N[i]+1))-\n",
    "                      (quicksum(X[i,j] for j in range(len(V[i])) if V[i][j] != 99999)/(N[i]+1)) for i in range(b,node))\n",
    "#constraint 4\n",
    "LP_model.addConstrs(X[i,j]<=Z[j] for i in range(node) for j in range(len(V[i])) if V[i][j] != 99999)\n",
    "\n",
    "# LP_model.addConstrs(Y[i]<=Z[i] for i in range(node))\n",
    "\n",
    "LP_model.update()\n",
    "\n",
    "LP_model.setParam(\"presolve\",0)\n",
    "LP_model.setParam('SubMIPNodes',0)\n",
    "LP_model.setParam('Cuts',2)\n",
    "LP_model.setParam('MIRCuts',0)\n",
    "LP_model.setParam('Threads',1)\n",
    "\n",
    "start = time.perf_counter()\n",
    "LP_model.optimize()\n",
    "sub_end = time.perf_counter()\n",
    "print('time:', sub_end-start)"
   ]
  },
  {
   "cell_type": "code",
   "execution_count": 123,
   "metadata": {},
   "outputs": [],
   "source": [
    "# print(LP_model.ObjVal)\n",
    "# for var in LP_model.getVars():\n",
    "#     print(var.varName,'\\t',var.x)"
   ]
  },
  {
   "cell_type": "code",
   "execution_count": 124,
   "metadata": {},
   "outputs": [],
   "source": [
    "def equilibrium(z, W):\n",
    "    z_prev = copy.deepcopy(z)\n",
    "    cost = [0 for n in range(node)] #c_i(z)\n",
    "    cost_prev = [0 for n in range(node)] \n",
    "\n",
    "    max_round = 10000\n",
    "\n",
    "    for i in range(max_round):\n",
    "        \n",
    "        for NI in G1.Nodes():\n",
    "            temp_zi_zj_sum = 0   #sum(w_ij(z_i-z_j)^2) ==> 3.1\n",
    "            temp_z_neighbor = 0   #sum(w_ij z_j) ==> 3.2\n",
    "            temp_neighbor_weight = 0  #sum(w_ij) ==>3.2\n",
    "\n",
    "            for Id in NI.GetOutEdges():\n",
    "                temp_zi_zj_sum += W[NI.GetId()][Id]*(z[NI.GetId()]-z[Id])**2 #3.1\n",
    "                temp_z_neighbor += W[NI.GetId()][Id]*z_prev[Id] #3.2\n",
    "                temp_neighbor_weight += W[NI.GetId()][Id] #3.2\n",
    "                \n",
    "            cost[NI.GetId()] = (s[NI.GetId()]-z[NI.GetId()])**2 + temp_zi_zj_sum #3.1\n",
    "\n",
    "            if z[NI.GetId()]==1:\n",
    "                z[NI.GetId()] = 1\n",
    "            else:\n",
    "                z[NI.GetId()] = (s[NI.GetId()]+temp_z_neighbor)/(1+temp_neighbor_weight) #3.2\n",
    "#         print(z)\n",
    "        if abs(sum(cost_prev)-sum(cost))<0.00000000000001:\n",
    "            break\n",
    "\n",
    "        cost_prev = copy.deepcopy(cost)\n",
    "        z_prev = copy.deepcopy(z)\n",
    "    return z"
   ]
  },
  {
   "cell_type": "code",
   "execution_count": 125,
   "metadata": {},
   "outputs": [],
   "source": [
    "y = []\n",
    "for i in range(node):\n",
    "    y.append(i)\n",
    "\n",
    "# sum_LP_solve = []    \n",
    "# for j in range(1000): \n",
    "#     selected = []\n",
    "#     all_vars = []\n",
    "#     all_bar_y =  []\n",
    "#     for var in LP_model.getVars():\n",
    "#         all_vars.append(var.x)\n",
    "#     for i in range(node, node*2):\n",
    "#         all_bar_y.append(all_vars[i])\n",
    "#     for i in range(k):\n",
    "#         select_v = random.choices(y, weights = all_bar_y, k=1)\n",
    "#     #     print(select_v[0])\n",
    "#     #     y[select_v[0]]=-1\n",
    "#         all_bar_y[select_v[0]]=0\n",
    "#         selected.append(select_v[0])\n",
    "# #     print(selected)\n",
    "#     z = copy.deepcopy(s)\n",
    "#     for i in range(len(selected)):\n",
    "#         z[selected[i]] = 1\n",
    "#     LP_solve = sum(equilibrium(z, W))\n",
    "# #     print(LP_solve)\n",
    "#     sum_LP_solve.append(LP_solve)\n",
    "# print(sum(sum_LP_solve)/len(sum_LP_solve))"
   ]
  },
  {
   "cell_type": "code",
   "execution_count": 126,
   "metadata": {},
   "outputs": [
    {
     "name": "stdout",
     "output_type": "stream",
     "text": [
      "time:  0.3941835999721661\n"
     ]
    }
   ],
   "source": [
    "selected = []\n",
    "all_vars = []\n",
    "all_bar_y =  []\n",
    "for var in LP_model.getVars():\n",
    "    all_vars.append(var.x)\n",
    "for i in range(node, node*2):\n",
    "    all_bar_y.append(all_vars[i])\n",
    "for i in range(k):\n",
    "    select_v = random.choices(y, weights = all_bar_y, k=1)\n",
    "#     print(select_v[0])\n",
    "#     y[select_v[0]]=-1\n",
    "    all_bar_y[select_v[0]]=0\n",
    "    selected.append(select_v[0])\n",
    "#     print(selected)\n",
    "z = copy.deepcopy(s)\n",
    "for i in range(len(selected)):\n",
    "    z[selected[i]] = 1\n",
    "equilibrium(z, W)\n",
    "end = time.perf_counter()\n",
    "print('time: ',end - start)"
   ]
  },
  {
   "cell_type": "code",
   "execution_count": 127,
   "metadata": {},
   "outputs": [
    {
     "name": "stdout",
     "output_type": "stream",
     "text": [
      "0.9545643708951633\n"
     ]
    }
   ],
   "source": [
    "print(12.60421544883294/13.204154516067959) #small"
   ]
  },
  {
   "cell_type": "code",
   "execution_count": 128,
   "metadata": {},
   "outputs": [
    {
     "name": "stdout",
     "output_type": "stream",
     "text": [
      "0.8274272430702734\n"
     ]
    }
   ],
   "source": [
    "print(302.59276338381625/365.7031671582477) #large"
   ]
  },
  {
   "cell_type": "code",
   "execution_count": 129,
   "metadata": {},
   "outputs": [
    {
     "name": "stdout",
     "output_type": "stream",
     "text": [
      "0.999104166032816\n"
     ]
    }
   ],
   "source": [
    "print(365.3755578392006/365.7031671582477)"
   ]
  },
  {
   "cell_type": "code",
   "execution_count": 130,
   "metadata": {},
   "outputs": [
    {
     "name": "stdout",
     "output_type": "stream",
     "text": [
      "0.9989666293474095\n"
     ]
    }
   ],
   "source": [
    "print(558.2954466648072/558.8729695901077)"
   ]
  },
  {
   "cell_type": "code",
   "execution_count": null,
   "metadata": {},
   "outputs": [],
   "source": []
  }
 ],
 "metadata": {
  "kernelspec": {
   "display_name": "Python 3",
   "language": "python",
   "name": "python3"
  },
  "language_info": {
   "codemirror_mode": {
    "name": "ipython",
    "version": 3
   },
   "file_extension": ".py",
   "mimetype": "text/x-python",
   "name": "python",
   "nbconvert_exporter": "python",
   "pygments_lexer": "ipython3",
   "version": "3.7.3"
  }
 },
 "nbformat": 4,
 "nbformat_minor": 4
}
